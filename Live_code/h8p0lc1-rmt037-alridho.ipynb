{
 "cells": [
  {
   "cell_type": "markdown",
   "metadata": {},
   "source": [
    "=================================================\n",
    "### Live Code 1\n",
    "\n",
    "##### Nama  : Achmed Alridho Zulkarnaen\n",
    "\n",
    "##### Batch : RMT-037\n",
    "\n",
    "###### Fungsi-fungsi ini dibuat untuk melakukan automatisasi hitung diskon dan melihat total harga produk untuk member dan non member.\n",
    "================================================="
   ]
  },
  {
   "cell_type": "markdown",
   "metadata": {},
   "source": [
    "# Soal Nomor 1:"
   ]
  },
  {
   "cell_type": "code",
   "execution_count": 17,
   "metadata": {},
   "outputs": [
    {
     "name": "stdout",
     "output_type": "stream",
     "text": [
      "9900.0\n",
      "9500.0\n",
      "70000.0\n",
      "40000.0\n",
      "100000\n"
     ]
    }
   ],
   "source": [
    "def hitungdiskon(membership, harga):\n",
    "  ''' \n",
    "  fungsi untuk menghitung total diskon setiap member.\n",
    "  '''\n",
    "  if membership == 'regular':\n",
    "  # Jika member = regular\n",
    "    if harga > 10000:\n",
    "      diskon = harga * 0.1\n",
    "      return harga - diskon\n",
    "    # jika member = regular dan belanja > 10000 maka diskon yang diberikan = 10%\n",
    "    elif harga <= 10000:\n",
    "      diskon = harga * 0.05\n",
    "      return harga - diskon\n",
    "    # jika member = regular dan belanja <= 10000 maka diskon yang diberikan = 5%\n",
    "  elif membership == 'vip':\n",
    "  # (else if) member = vip\n",
    "    if harga > 50000:\n",
    "      diskon = harga * 0.3\n",
    "      return harga - diskon\n",
    "    # jika member = vip dan belanja > 50000 maka diskon yang diberikan = 30%\n",
    "    elif harga <= 50000:\n",
    "      diskon = harga * 0.2\n",
    "      return harga - diskon\n",
    "    # jika member = vip dan belanja <= 50000 maka diskon yang diberikan = 20%\n",
    "  else:\n",
    "    return harga\n",
    "    # selain member = keluarkan harga input, karena tidaka ada diskon\n",
    "  \n",
    "print(hitungdiskon(membership='regular', harga=11000))\n",
    "print(hitungdiskon(membership='regular', harga=10000))\n",
    "print(hitungdiskon(membership='vip', harga=100000))\n",
    "print(hitungdiskon(membership='vip', harga=50000))\n",
    "print(hitungdiskon(membership='kosong', harga=100000))"
   ]
  },
  {
   "cell_type": "markdown",
   "metadata": {},
   "source": [
    "# Soal Nomor 2"
   ]
  },
  {
   "cell_type": "code",
   "execution_count": 20,
   "metadata": {},
   "outputs": [
    {
     "name": "stdout",
     "output_type": "stream",
     "text": [
      "165700.0\n",
      "169500\n"
     ]
    }
   ],
   "source": [
    "def totalbelanja(*args, membership=str):\n",
    "  ''' \n",
    "  fungsi untuk menghitung total belanja setiap member dan non member.\n",
    "  '''\n",
    "  listharga = 0\n",
    "  # listharga = kosong (karena setiap nilai dari fungsi hitungdiskon nanti akan ditambahkan kesini)\n",
    "  for harga in args:\n",
    "    listharga += hitungdiskon(membership, int(harga))\n",
    "    # loop dilakukan untuk melakukan looping pada setiap harga diskon yang telah dihasilkan oleh fungsi (hitungdiskon)\n",
    "  return listharga\n",
    "  # mengeluarkan listharga yang telah menjumlahkan semua (hitungdiskon)\n",
    "\n",
    "print(totalbelanja(20000,50000,51000,100000,5000,membership='vip'))\n",
    "print(totalbelanja(10000,30000,42000,72000,15500,membership='-'))"
   ]
  },
  {
   "cell_type": "markdown",
   "metadata": {},
   "source": [
    "# Soal Nomor 3"
   ]
  },
  {
   "cell_type": "code",
   "execution_count": 19,
   "metadata": {},
   "outputs": [
    {
     "name": "stderr",
     "output_type": "stream",
     "text": [
      "\n",
      "----------------------------------------------------------------------\n",
      "Ran 0 tests in 0.000s\n",
      "\n",
      "OK\n"
     ]
    },
    {
     "data": {
      "text/plain": [
       "<unittest.main.TestProgram at 0x17ab0bfebb0>"
      ]
     },
     "execution_count": 19,
     "metadata": {},
     "output_type": "execute_result"
    }
   ],
   "source": [
    "import unittest\n",
    "# Memasukan unittest\n",
    "class TestDiskonFunction(unittest.TestCase):\n",
    "  def Test_hitungdiskon(self):\n",
    "    # Testcase untuk menghitung diskon\n",
    "    self.assertEqual(hitungdiskon(membership='regular', harga=11000),9900)\n",
    "    self.assertEqual(hitungdiskon(membership='vip', harga=20000),16000)\n",
    "  def Test_totalbelanja(self):\n",
    "    # Testcase untuk menghitung total belanja\n",
    "    self.assertEqual(totalbelanja(20000,50000,51000,100000,5000,membership='vip'),165700.0)\n",
    "    self.assertEqual(totalbelanja(10000,30000,42000,72000,15500,membership='-'),169500)\n",
    "\n",
    "unittest.main(argv=[''], exit=False)"
   ]
  }
 ],
 "metadata": {
  "kernelspec": {
   "display_name": "data_science",
   "language": "python",
   "name": "python3"
  },
  "language_info": {
   "codemirror_mode": {
    "name": "ipython",
    "version": 3
   },
   "file_extension": ".py",
   "mimetype": "text/x-python",
   "name": "python",
   "nbconvert_exporter": "python",
   "pygments_lexer": "ipython3",
   "version": "3.9.19"
  }
 },
 "nbformat": 4,
 "nbformat_minor": 2
}
