{
 "cells": [
  {
   "cell_type": "markdown",
   "metadata": {},
   "source": [
    "# Task #1 - Number of Word\n",
    "Create a function that count the number of word in a sentence.\n",
    "\n",
    "Instruction:\n",
    "\n",
    "  1.Create function called `number_of_word`.\n",
    "\n",
    "  2.This function takes 1 input, `sentence`.\n",
    "\n",
    "  3.Inside this function, you can utilize `.split()` method to split the sentence into list of word(s).\n",
    "\n",
    "  4.Also, `len()` function to count the element inside a list.\n",
    "\n",
    "  5.Return the number of word from the sentence.\n",
    "\n",
    "\n",
    "Example:\n",
    "\n",
    "-Input: number_of_word(sentence = ’Hello World!’)\n",
    "\n",
    "-Output: 2\n",
    "\n",
    "\n",
    "\n",
    "-Input: number_of_word(sentence = ’Once Upon a Time in a faraway land’)\n",
    "\n",
    "-Output: 84\n"
   ]
  },
  {
   "cell_type": "code",
   "execution_count": 39,
   "metadata": {},
   "outputs": [
    {
     "name": "stdout",
     "output_type": "stream",
     "text": [
      "2\n",
      "8\n"
     ]
    }
   ],
   "source": [
    "def number_of_word(sentence):\n",
    "    a = sentence.split()\n",
    "    return len(a)\n",
    "print(number_of_word(sentence=\"Hello World!\")) \n",
    "print(number_of_word(sentence=\"Once Upon a Time in a faraway land\"))"
   ]
  },
  {
   "cell_type": "markdown",
   "metadata": {},
   "source": [
    "# Task #2 - Find Multiple\n",
    "Create a function that will get list of number(s) from a certain range that multiples of given number.\n",
    "\n",
    "Instruction:\n",
    "\n",
    "1.Create function called `find_multiples`.\n",
    "\n",
    "2.This function takes 3 input: `start_range`, `end_range`, and `multiple`.\n",
    "\n",
    "3.From every number within the given range, check if that number is the mutliples of `multiple`.\n",
    "\n",
    "4.Return list of the possible multiple number(s).\n",
    "\n",
    "Example:\n",
    "\n",
    "-Input: find_multiple(start_range= 1, end_range= 20, multiple= 5)\n",
    "\n",
    "-Output: [5, 10, 15, 20]\n",
    "\n",
    "-Input: find_multiple(start_range= 1, end_range= 50, multiple= 10)\n",
    "\n",
    "-Output: [10, 20, 30, 40, 50]"
   ]
  },
  {
   "cell_type": "code",
   "execution_count": 95,
   "metadata": {},
   "outputs": [
    {
     "name": "stdout",
     "output_type": "stream",
     "text": [
      "[100, 200, 300, 400, 500, 600, 700, 800, 900, 1000]\n"
     ]
    }
   ],
   "source": [
    "def find_multiples (start_range, end_range, multiple):\n",
    "    multiples = []\n",
    "    for i in range (start_range, end_range+1):\n",
    "        if i % multiple == 0:\n",
    "            multiples.append(i)\n",
    "\n",
    "    return multiples\n",
    "\n",
    "print(find_multiples(10, 1000, 10))"
   ]
  },
  {
   "cell_type": "code",
   "execution_count": 63,
   "metadata": {},
   "outputs": [
    {
     "name": "stdout",
     "output_type": "stream",
     "text": [
      "yx\n",
      "yxx\n",
      "yxxx\n",
      "yxxxx\n",
      "yxxxxx\n",
      "yxxxxxx\n",
      "yxxxxxxx\n",
      "yxxxxxxxx\n",
      "yxxxxxxxxx\n"
     ]
    }
   ],
   "source": [
    "for baris in range(1,10):\n",
    "    print(\"y\", end=\"\")\n",
    "    for kolom in range(baris):\n",
    "        print(\"x\", end=\"\")\n",
    "    print()\n"
   ]
  },
  {
   "cell_type": "code",
   "execution_count": 117,
   "metadata": {},
   "outputs": [
    {
     "name": "stdout",
     "output_type": "stream",
     "text": [
      "999999999\n",
      "88888888\n",
      "7777777\n",
      "666666\n",
      "55555\n",
      "4444\n",
      "333\n",
      "22\n",
      "1\n"
     ]
    }
   ],
   "source": [
    "x = 10\n",
    "while x > 1:\n",
    "  x = x-1\n",
    "  for j in range(x):\n",
    "    print(x, end = \"\")\n",
    "  print()"
   ]
  },
  {
   "cell_type": "code",
   "execution_count": 25,
   "metadata": {},
   "outputs": [
    {
     "name": "stdout",
     "output_type": "stream",
     "text": [
      "Alridho32!\n",
      "Alridho32!\n",
      "Alridho32!\n",
      "Alridho32!\n",
      "Alridho32!\n",
      "Alridho32!\n",
      "Alridho32!\n",
      "Alridho32!\n",
      "Alridho32!\n",
      "Alridho32!\n"
     ]
    }
   ],
   "source": [
    "password = \"Alridho32!\"\n",
    "for validate in password:\n",
    "  if password \n"
   ]
  },
  {
   "cell_type": "code",
   "execution_count": 2,
   "metadata": {},
   "outputs": [
    {
     "name": "stdout",
     "output_type": "stream",
     "text": [
      "[10, 20, 30, 40, 50, 60, 70, 80, 90, 100]\n"
     ]
    }
   ],
   "source": [
    "def find_multiples (start_range, end_range, multiple):\n",
    "    multiples = []\n",
    "    for i in range (start_range, end_range+1):\n",
    "        if i % multiple == 0:\n",
    "            multiples.append(i)\n",
    "\n",
    "    return multiples\n",
    "\n",
    "print(find_multiples(10, 100, 10))"
   ]
  },
  {
   "cell_type": "code",
   "execution_count": 5,
   "metadata": {},
   "outputs": [],
   "source": [
    "def my_function(password):\n",
    "  if len(password) > 16 or len(password) < 6:\n",
    "    return \"wrong\"\n",
    "  else:\n",
    "    have_small_character = False\n",
    "    have_big_character = False\n",
    "    have_a_number = False\n",
    "    have_a_character = False\n",
    "    cha = \"@#$\"\n",
    "    for pw in password:\n",
    "      if \"a\" <= pw <= \"z\":\n",
    "        have_small_character = True\n",
    "      elif \"A\" <= pw <= \"Z\":\n",
    "        have_big_character = True\n",
    "      elif \"0\" <= pw <= \"9\":\n",
    "        have_a_number = True\n",
    "      elif pw in cha:\n",
    "        have_a_character = True\n",
    "    if not have_small_character:\n",
    "      return \"dont contain small character\"\n",
    "    if not have_big_character:\n",
    "      return \"dont contain big character\"\n",
    "    if not have_a_number:\n",
    "      return \"dont contain number\"\n",
    "    if not have_a_character:\n",
    "      return \"dont contain special character\"\n",
    "    else:\n",
    "      return \"Welcome\"\n",
    "  \n",
    "  \n",
    "c = input('enter input : ')\n",
    "print(c)"
   ]
  },
  {
   "cell_type": "code",
   "execution_count": 99,
   "metadata": {},
   "outputs": [
    {
     "ename": "SyntaxError",
     "evalue": "invalid syntax (1593325711.py, line 3)",
     "output_type": "error",
     "traceback": [
      "\u001b[1;36m  Cell \u001b[1;32mIn[99], line 3\u001b[1;36m\u001b[0m\n\u001b[1;33m    print(num == num, =e \"\")\u001b[0m\n\u001b[1;37m                      ^\u001b[0m\n\u001b[1;31mSyntaxError\u001b[0m\u001b[1;31m:\u001b[0m invalid syntax\n"
     ]
    }
   ],
   "source": [
    "for num in range(1,10):\n",
    "  for dupe in range(num):\n",
    "    print(num == num, =e \"\")"
   ]
  },
  {
   "cell_type": "code",
   "execution_count": null,
   "metadata": {},
   "outputs": [],
   "source": []
  }
 ],
 "metadata": {
  "kernelspec": {
   "display_name": "data_science",
   "language": "python",
   "name": "python3"
  },
  "language_info": {
   "codemirror_mode": {
    "name": "ipython",
    "version": 3
   },
   "file_extension": ".py",
   "mimetype": "text/x-python",
   "name": "python",
   "nbconvert_exporter": "python",
   "pygments_lexer": "ipython3",
   "version": "3.9.19"
  }
 },
 "nbformat": 4,
 "nbformat_minor": 2
}
