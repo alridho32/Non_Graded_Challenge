{
 "cells": [
  {
   "cell_type": "code",
   "execution_count": 7,
   "metadata": {},
   "outputs": [
    {
     "name": "stdout",
     "output_type": "stream",
     "text": [
      "No, 'expensive' is NOT present.\n"
     ]
    }
   ],
   "source": [
    "txt = \"The best things in life are free!\"\n",
    "if \"expensive\" not in txt:\n",
    "  print(\"No, 'expensive' is NOT present.\")"
   ]
  },
  {
   "cell_type": "code",
   "execution_count": 5,
   "metadata": {},
   "outputs": [
    {
     "name": "stdout",
     "output_type": "stream",
     "text": [
      "yes 'best' is in the text\n"
     ]
    }
   ],
   "source": [
    "txt = \"The best things in life are free!\"\n",
    "if \"best\" in txt:\n",
    "  print(\"yes 'best' is in the text\")"
   ]
  },
  {
   "cell_type": "code",
   "execution_count": 10,
   "metadata": {},
   "outputs": [
    {
     "name": "stdout",
     "output_type": "stream",
     "text": [
      "False\n"
     ]
    }
   ],
   "source": [
    "txt = \"The best things in life are free!\"\n",
    "print(\"expensive\" in txt)"
   ]
  },
  {
   "cell_type": "code",
   "execution_count": 11,
   "metadata": {},
   "outputs": [
    {
     "name": "stdout",
     "output_type": "stream",
     "text": [
      "Hello, World!\n"
     ]
    }
   ],
   "source": [
    "b = \"Hello, World!\"\n",
    "print(b[:])"
   ]
  },
  {
   "cell_type": "code",
   "execution_count": 14,
   "metadata": {},
   "outputs": [
    {
     "name": "stdout",
     "output_type": "stream",
     "text": [
      "Jello, World!\n"
     ]
    }
   ],
   "source": [
    "a = \"Hello, World!\"\n",
    "print(a.replace(\"H\", \"J\"))"
   ]
  },
  {
   "cell_type": "code",
   "execution_count": 15,
   "metadata": {},
   "outputs": [
    {
     "name": "stdout",
     "output_type": "stream",
     "text": [
      "Hello, World!\n"
     ]
    }
   ],
   "source": [
    "a = \" Hello, World! \"\n",
    "print(a.strip()) # menghilangkan spasi di awal dan di akhir menjadi \"Hello, World!\""
   ]
  },
  {
   "cell_type": "code",
   "execution_count": 1,
   "metadata": {},
   "outputs": [
    {
     "name": "stdout",
     "output_type": "stream",
     "text": [
      "['Hello', ' World!']\n"
     ]
    }
   ],
   "source": [
    "a = \"Hello, World!\"\n",
    "print(a.split(\",\")) # returns ['Hello', ' World!']"
   ]
  },
  {
   "cell_type": "code",
   "execution_count": 14,
   "metadata": {},
   "outputs": [
    {
     "name": "stdout",
     "output_type": "stream",
     "text": [
      "Jawa Timur\n"
     ]
    }
   ],
   "source": [
    "provinsi = {'Nanggroe Aceh Darussalam': 'Aceh',\n",
    "            'Sumatera Selatan': 'Palembang',\n",
    "            'Kalimantan Barat': 'Pontianak',\n",
    "            'Jawa Timur': 'Madiun',\n",
    "            'Sulawesi Selatan': 'Makassar',\n",
    "            'Maluku': 'Ambon'\n",
    "            }\n",
    "x = list(provinsi.keys())[3]\n",
    "print(x)\n",
    "\n",
    "# for x in provinsi.keys():\n",
    "#  print(x)"
   ]
  },
  {
   "cell_type": "markdown",
   "metadata": {},
   "source": [
    "# Object Oriented Programing 1\n",
    "\n",
    "Write a Python class BankAccount with attributes like account_number, balance, date_of_opening and customer_name,and methods like deposit, withdraw, and check_balance."
   ]
  },
  {
   "cell_type": "code",
   "execution_count": 61,
   "metadata": {},
   "outputs": [],
   "source": [
    "class bankaccount:\n",
    "  def __init__ (self, acc_num, balance, date_of_open, customer_name):\n",
    "    self.acc_num = acc_num\n",
    "    self.balance = balance\n",
    "    self.date_of_open = date_of_open\n",
    "    self.customer_name = customer_name\n",
    "  \n",
    "  def check_balance(self):\n",
    "    return f'Balance : {self.balance}'\n",
    "  \n",
    "  def deposit(self, amount):\n",
    "    self.balance += amount\n",
    "    return f'Deposit of {amount} success, new balance {self.balance}'\n",
    "  \n",
    "  def withdraw(self, amount):\n",
    "    if self.balance >= amount:\n",
    "      self.balance -= amount\n",
    "      return f'Withdraw of {amount} success, new balance {self.balance}'\n",
    "    else:\n",
    "      return f'Insufficient amount'\n",
    "  \n",
    "  def accountinfo(self):\n",
    "    print(f'Your Account Information : \\n Account ID : {self.acc_num} \\n Account Name : {self.customer_name} \\n Account Balance : ${self.customer_name} \\n Account  : ${self.customer_name}"
   ]
  },
  {
   "cell_type": "code",
   "execution_count": 35,
   "metadata": {},
   "outputs": [],
   "source": [
    "# class BankAccount:\n",
    "#     def __init__(self, account_number, balance, date_of_opening, customer_name):\n",
    "#         self.accountnumber = account_number\n",
    "#         self.balance = balance\n",
    "#         self.dateofopening = date_of_opening\n",
    "#         self.customername = customer_name\n",
    "\n",
    "#     def deposit(self, amount):\n",
    "#         self.balance += amount\n",
    "#         print(f\"Deposit of {amount} successful. New balance: {self.balance}\")\n",
    "\n",
    "#     def withdraw(self, amount):\n",
    "#         if amount <= self.balance:\n",
    "#             self.balance -= amount\n",
    "#             print(f\"Withdrawal of {amount} successful. New balance: {self.balance}\")\n",
    "#         else:\n",
    "#             print(\"Insufficient funds.\")\n",
    "\n",
    "#     def check_balance(self):\n",
    "#         print(f\"Account balance: {self.balance}\")"
   ]
  },
  {
   "cell_type": "code",
   "execution_count": 62,
   "metadata": {},
   "outputs": [],
   "source": [
    "account = bankaccount(123, 1000, \"04/06/2000\", \"alridho\")"
   ]
  },
  {
   "cell_type": "code",
   "execution_count": 67,
   "metadata": {},
   "outputs": [
    {
     "data": {
      "text/plain": [
       "'Balance : 2000'"
      ]
     },
     "execution_count": 67,
     "metadata": {},
     "output_type": "execute_result"
    }
   ],
   "source": [
    "account.check_balance()"
   ]
  },
  {
   "cell_type": "code",
   "execution_count": 68,
   "metadata": {},
   "outputs": [
    {
     "data": {
      "text/plain": [
       "'Withdraw of 500 success, new balance 1500'"
      ]
     },
     "execution_count": 68,
     "metadata": {},
     "output_type": "execute_result"
    }
   ],
   "source": [
    "account.withdraw(500)"
   ]
  },
  {
   "cell_type": "markdown",
   "metadata": {},
   "source": [
    "# Object Oriented Programing 2\n",
    "Write a Python class Employee with attributes like emp_id, emp_name, emp_salary, and emp_department and methods like calculate_emp_salary, emp_assign_department, and print_employee_details.\n",
    "\n",
    "●   Use 'assign_department' method to change the department of an employee.\n",
    "\n",
    "●   Use 'print_employee_details' method to print the details of an employee.\n",
    "\n",
    "●   Use 'calculate_emp_salary' method takes two arguments: salary and hours_worked, which is the number of hours worked by the    employee. If the number of hours worked is more than 50, the method computes overtime and adds it to the salary. Overtime is calculated as following formula:\n",
    "\n",
    "Overtime = hours_worked - 50\n",
    "\n",
    "Overtime amount = (overtime * (salary / 50))"
   ]
  },
  {
   "cell_type": "code",
   "execution_count": 2,
   "metadata": {},
   "outputs": [],
   "source": [
    "class employee:\n",
    "    def __init__(self, emp_id, emp_name, emp_salary, emp_department):\n",
    "        self.emp_id = emp_id\n",
    "        self.emp_name = emp_name\n",
    "        self.emp_salary = emp_salary\n",
    "        self.emp_department = emp_department\n",
    "\n",
    "    def assign_department(self, new_department):\n",
    "        self.emp_department = new_department\n",
    "\n",
    "    def print_employee_details(self):\n",
    "        print(f\"Employee ID: {self.emp_id}\")\n",
    "        print(f\"Employee Name: {self.emp_name}\")\n",
    "        print(f\"Employee Salary: {self.emp_salary}\")\n",
    "        print(f\"Employee Department: {self.emp_department}\")\n",
    "\n",
    "    def calculate_emp_salary(self, hours_worked):\n",
    "        if hours_worked > 50:\n",
    "            overtime = hours_worked - 50\n",
    "            overtime_amount = (overtime * (self.emp_salary / 50))\n",
    "            total_salary = self.emp_salary + overtime_amount\n",
    "        else:\n",
    "            total_salary = self.emp_salary\n",
    "\n",
    "        return total_salary"
   ]
  },
  {
   "cell_type": "code",
   "execution_count": 5,
   "metadata": {},
   "outputs": [],
   "source": [
    "nama = employee(\"E7876\", 'lenny', 5000, 'Finance')"
   ]
  },
  {
   "cell_type": "code",
   "execution_count": 6,
   "metadata": {},
   "outputs": [
    {
     "name": "stdout",
     "output_type": "stream",
     "text": [
      "Employee ID: E7876\n",
      "Employee Name: lenny\n",
      "Employee Salary: 5000\n",
      "Employee Department: Finance\n"
     ]
    }
   ],
   "source": [
    "nama.print_employee_details()"
   ]
  },
  {
   "cell_type": "code",
   "execution_count": 8,
   "metadata": {},
   "outputs": [
    {
     "name": "stdout",
     "output_type": "stream",
     "text": [
      "Employee ID: E7876\n",
      "Employee Name: lenny\n",
      "Employee Salary: 5000\n",
      "Employee Department: Operations\n"
     ]
    }
   ],
   "source": [
    "nama.assign_department('Operations')\n",
    "\n",
    "nama.print_employee_details()"
   ]
  },
  {
   "cell_type": "code",
   "execution_count": 36,
   "metadata": {},
   "outputs": [
    {
     "ename": "SyntaxError",
     "evalue": "cannot assign to function call (1285084019.py, line 47)",
     "output_type": "error",
     "traceback": [
      "\u001b[1;36m  Cell \u001b[1;32mIn[36], line 47\u001b[1;36m\u001b[0m\n\u001b[1;33m    duration = input(f'Durasi Exercise :')=int\u001b[0m\n\u001b[1;37m               ^\u001b[0m\n\u001b[1;31mSyntaxError\u001b[0m\u001b[1;31m:\u001b[0m cannot assign to function call\n"
     ]
    }
   ],
   "source": [
    "lis = []\n",
    "\n",
    "def parameter(duration, exercise):\n",
    "   jenis = [duration, exercise]\n",
    "   lis.append(jenis)\n",
    "def showData():\n",
    "    if len(lis) == 0:\n",
    "        print(\"Data belum ada\")\n",
    "    else:\n",
    "        print('No.| Jenis Kegiatan | Durasi')\n",
    "        for i in range(len(lis)):\n",
    "            print(f'{i + 1}| {lis[i]} | {lis[i+1]}')\n",
    "\n",
    "def calories_burned(duration=int, exercise=str):\n",
    "      '''\n",
    "      Fungsi ini ditujukan untuk menghitung jumlah \n",
    "      \n",
    "      kalori total dimana, duration * exercise\n",
    "      \n",
    "      duration = lama kita latihan\n",
    "      \n",
    "      exercise = jenis dari latihan\n",
    "      '''\n",
    "      if exercise == 'berlari':\n",
    "        return duration * 10\n",
    "      elif exercise == 'bersepeda':\n",
    "        return duration * 8\n",
    "      elif exercise == 'berenang':\n",
    "        return duration * 12\n",
    "      else:\n",
    "        return 'Kegiatan tidak ditemukan'\n",
    "\n",
    "# def calories_burned(duration=int, exercise=str):\n",
    "#   if exercise == 'berlari':\n",
    "#     return(duration * 10)\n",
    "#   elif exercise == 'bersepeda':\n",
    "#     return(duration * 8)\n",
    "#   elif exercise == 'berenang':\n",
    "#     return(duration * 12)\n",
    "#   else:\n",
    "#     return 'Kegiatan tidak ditemukan'\n",
    "  \n",
    "while True:\n",
    "  print('''\n",
    "==============\n",
    "Kalkulator Kalori Terbakar:\n",
    "\n",
    "1. Masukan Jenis Latihan dan Durasi\n",
    "2. History Olahraga\n",
    "3. Exit\n",
    "==============\n",
    "        ''')\n",
    "  pilihan = input(f'Pilih \"1\" Untuk Memulai Perhitungan, Pilih 2 Untuk \"menampilkan histori\", dan Pilih 3 Untuk \"exit/keluar\"')\n",
    "  if pilihan == '3':\n",
    "    break\n",
    "  elif pilihan == '1':\n",
    "    duration = input(f'Durasi Olahraga Dalam Menit :')\n",
    "    exercise = input(f'Jenis Olahraga :')\n",
    "    calories_burned(duration, exercise)\n",
    "    print(f'Jumlah Kalori Yang Terbakar :')\n",
    "    print(calories_burned(duration=int, exercise=str))\n",
    "  elif pilihan == '2':\n",
    "     showData()\n",
    "  else:\n",
    "        print('Tidak Terdapat Dalam Menu')"
   ]
  },
  {
   "cell_type": "code",
   "execution_count": 38,
   "metadata": {},
   "outputs": [
    {
     "data": {
      "text/plain": [
       "100"
      ]
     },
     "execution_count": 38,
     "metadata": {},
     "output_type": "execute_result"
    }
   ],
   "source": [
    "def calories_burned(duration=int, exercise=str):\n",
    "      '''\n",
    "      Fungsi ini ditujukan untuk menghitung jumlah \n",
    "      \n",
    "      kalori total dimana, duration * exercise\n",
    "      \n",
    "      duration = lama kita latihan\n",
    "      \n",
    "      exercise = jenis dari latihan\n",
    "      '''\n",
    "      if exercise == 'berlari':\n",
    "        return duration * 10\n",
    "      elif exercise == 'bersepeda':\n",
    "        return duration * 8\n",
    "      elif exercise == 'berenang':\n",
    "        return duration * 12\n",
    "      else:\n",
    "        return 'Kegiatan tidak ditemukan'\n",
    "calories_burned(10,'berlari')"
   ]
  },
  {
   "cell_type": "code",
   "execution_count": 31,
   "metadata": {},
   "outputs": [
    {
     "name": "stdout",
     "output_type": "stream",
     "text": [
      "150\n",
      "160\n",
      "720\n"
     ]
    }
   ],
   "source": [
    "def calories_burned(duration, exercise):\n",
    "    if exercise == 'berlari':\n",
    "        return duration * 10\n",
    "    elif exercise == 'bersepeda':\n",
    "        return duration * 8\n",
    "    elif exercise == 'berenang':\n",
    "        return duration * 12\n",
    "    else:\n",
    "        return 0  # Return 0 if exercise is not recognized\n",
    "\n",
    "print(calories_burned(duration=15, exercise='berlari'))\n",
    "print(calories_burned(duration=20, exercise='bersepeda'))\n",
    "print(calories_burned(duration=60, exercise='berenang'))"
   ]
  },
  {
   "cell_type": "code",
   "execution_count": 27,
   "metadata": {},
   "outputs": [
    {
     "name": "stdout",
     "output_type": "stream",
     "text": [
      "180\n",
      "150\n"
     ]
    }
   ],
   "source": [
    "def total_session_burned_cal(*args, each_session_duration):\n",
    "    total_burned_cal = 0\n",
    "    for exercise in args:\n",
    "        # Switch the order of arguments to match calories_burned function definition\n",
    "        total_burned_cal += calories_burned(each_session_duration, exercise)  \n",
    "    return total_burned_cal\n",
    "    pass\n",
    "    # raise NotImplementedError()\n",
    "    \n",
    "print(total_session_burned_cal('berlari', 'bersepeda', each_session_duration=10))\n",
    "print(total_session_burned_cal('berenang', 'berlari', 'bersepeda', each_session_duration=5))"
   ]
  },
  {
   "cell_type": "code",
   "execution_count": 30,
   "metadata": {},
   "outputs": [
    {
     "name": "stderr",
     "output_type": "stream",
     "text": [
      "..\n",
      "----------------------------------------------------------------------\n",
      "Ran 2 tests in 0.001s\n",
      "\n",
      "OK\n"
     ]
    },
    {
     "data": {
      "text/plain": [
       "<unittest.main.TestProgram at 0x1c77a29be20>"
      ]
     },
     "execution_count": 30,
     "metadata": {},
     "output_type": "execute_result"
    }
   ],
   "source": [
    "import unittest\n",
    "\n",
    "class TestCalorieFunctions(unittest.TestCase):\n",
    "\n",
    "    def test_calories_burned(self):\n",
    "        self.assertEqual(calories_burned(duration=60, exercise='berenang'), 720)\n",
    "        self.assertEqual(calories_burned(duration=15, exercise='berlari'), 150)\n",
    "        self.assertEqual(calories_burned(duration=20, exercise='bersepeda'), 160)\n",
    "\n",
    "    def test_total_session_burned_cal(self):\n",
    "        self.assertEqual(total_session_burned_cal('berenang', 'bersepeda', each_session_duration=10), 200)\n",
    "        self.assertEqual(total_session_burned_cal('berenang', 'berlari', 'bersepeda', each_session_duration=5), 150)\n",
    "\n",
    "unittest.main(argv=[''], exit=False)"
   ]
  }
 ],
 "metadata": {
  "kernelspec": {
   "display_name": "data_science",
   "language": "python",
   "name": "python3"
  },
  "language_info": {
   "codemirror_mode": {
    "name": "ipython",
    "version": 3
   },
   "file_extension": ".py",
   "mimetype": "text/x-python",
   "name": "python",
   "nbconvert_exporter": "python",
   "pygments_lexer": "ipython3",
   "version": "3.9.19"
  }
 },
 "nbformat": 4,
 "nbformat_minor": 2
}
