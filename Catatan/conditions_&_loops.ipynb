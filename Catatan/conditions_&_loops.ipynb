{
  "cells": [
    {
      "cell_type": "markdown",
      "metadata": {
        "id": "f3fwm9AXSf4W"
      },
      "source": [
        "# LATIHAN - P0W1D3AM : Conditional & Looping"
      ]
    },
    {
      "cell_type": "markdown",
      "metadata": {
        "id": "KwQ65oWbSk3E"
      },
      "source": [
        "**NOMOR 1**\n",
        "\n",
        "Buatlah sebuah kondisi untuk mengecek apakah variabel `a` **lebih kecil** dari variabel `b` berdasarkan nilai dibawah ini :\n",
        "* `a` = 100\n",
        "* `b` = 200\n",
        "\n",
        "Jika `True` maka tulis/cetak `a lebih kecil dari b`"
      ]
    },
    {
      "cell_type": "code",
      "execution_count": null,
      "metadata": {
        "colab": {
          "base_uri": "https://localhost:8080/"
        },
        "id": "3yr36oejF08-",
        "outputId": "14c359e3-6d7d-4539-c2ed-a768ef0f28af"
      },
      "outputs": [
        {
          "name": "stdout",
          "output_type": "stream",
          "text": [
            "a lebih kecil dari b\n"
          ]
        }
      ],
      "source": [
        "# Working area\n",
        "a = 100\n",
        "b = 200\n",
        "\n",
        "if a < b:\n",
        "  print(\"a lebih kecil dari b\")"
      ]
    },
    {
      "cell_type": "markdown",
      "metadata": {
        "id": "3VTram85TxLA"
      },
      "source": [
        "**NOMOR 2**\n",
        "\n",
        "Buatlah sebuah kondisi untuk mengecek apakah variabel `a` **lebih besar** dari variabel `b` berdasarkan nilai dibawah ini :\n",
        "* `a` = 100\n",
        "* `b` = 200\n",
        "\n",
        "Jika `True` maka tulis/cetak `a lebih besar dari b`"
      ]
    },
    {
      "cell_type": "code",
      "execution_count": null,
      "metadata": {
        "colab": {
          "base_uri": "https://localhost:8080/"
        },
        "id": "Z0mEQpBqF09D",
        "outputId": "2579a310-376b-4d59-b5f7-955aa67ed5bd"
      },
      "outputs": [
        {
          "name": "stdout",
          "output_type": "stream",
          "text": [
            "a lebih kecil dari b\n"
          ]
        }
      ],
      "source": [
        "# Working area Bentuk 4\n",
        "a = 100\n",
        "b = 200\n",
        "if a > b:\n",
        "    print('a lebih besar dari b')\n",
        "else:\n",
        "    print('a lebih kecil dari b')"
      ]
    },
    {
      "cell_type": "code",
      "execution_count": null,
      "metadata": {
        "colab": {
          "base_uri": "https://localhost:8080/"
        },
        "id": "N69usue7QVoY",
        "outputId": "d74b6209-64eb-4a47-a091-0f29638f593c"
      },
      "outputs": [
        {
          "data": {
            "text/plain": [
              "False"
            ]
          },
          "execution_count": 5,
          "metadata": {},
          "output_type": "execute_result"
        }
      ],
      "source": [
        "a > b"
      ]
    },
    {
      "cell_type": "code",
      "execution_count": null,
      "metadata": {
        "colab": {
          "base_uri": "https://localhost:8080/"
        },
        "id": "q19FfaxMQc3Y",
        "outputId": "8cbdf21f-6a6c-48b5-bfd6-bd9308bfa64f"
      },
      "outputs": [
        {
          "name": "stdout",
          "output_type": "stream",
          "text": [
            "a lebih kecil dari b\n"
          ]
        }
      ],
      "source": [
        "# Working area Bentuk 3\n",
        "a = 100\n",
        "b = 200\n",
        "if a > b:\n",
        "    print('a lebih besar dari b')\n",
        "elif a < b:\n",
        "    print('a lebih kecil dari b')"
      ]
    },
    {
      "cell_type": "markdown",
      "metadata": {
        "id": "nJ04rhbDUDuI"
      },
      "source": [
        "**NOMOR 3**\n",
        "\n",
        "Buatlah sebuah kondisi untuk mengecek apakah variabel `a` **tidak sama dengan**  variabel `b` berdasarkan nilai dibawah ini :\n",
        "* `a` = `januari`\n",
        "* `b` = `februari`\n",
        "\n",
        "Jika `True` maka tulis/cetak `a tidak sama dengan b`\n",
        "\n",
        "Jika `False` maka tulis/cetak `a sama dengan b`"
      ]
    },
    {
      "cell_type": "code",
      "execution_count": null,
      "metadata": {
        "colab": {
          "base_uri": "https://localhost:8080/"
        },
        "id": "FlqV3RWHF09F",
        "outputId": "b05edd39-253f-4d6e-d2eb-be13ed174367"
      },
      "outputs": [
        {
          "name": "stdout",
          "output_type": "stream",
          "text": [
            "a tidak sama dengan b\n"
          ]
        }
      ],
      "source": [
        "# Working area\n",
        "a = \"januari\"\n",
        "b = \"februari\"\n",
        "\n",
        "if a != b:\n",
        "   print(\"a tidak sama dengan b\")\n",
        "else:\n",
        "   print(\"a sama dengan b\")"
      ]
    },
    {
      "cell_type": "markdown",
      "metadata": {
        "id": "bbHY6mLEfCtm"
      },
      "source": [
        "**NOMOR 4**\n",
        "\n",
        "Buatlah sebuah kondisi untuk mengecek apakah variabel `a` **sama dengan**  variabel `b` berdasarkan nilai dibawah ini :\n",
        "* `a` = 1000\n",
        "* `b` = 1000.0\n",
        "\n",
        "Jika `True` maka jangan menampilkan apapun\n",
        "\n",
        "Jika `False` maka tulis/cetak `a tidak sama dengan b`"
      ]
    },
    {
      "cell_type": "code",
      "execution_count": null,
      "metadata": {
        "colab": {
          "base_uri": "https://localhost:8080/"
        },
        "id": "R6lP7X4MF09H",
        "outputId": "c5b4f4ee-0e56-4fc6-f90b-2d0eb6cf6efc"
      },
      "outputs": [],
      "source": [
        "# Working area\n",
        "a = 1000\n",
        "b = 1000.0\n",
        "\n",
        "if a == b:\n",
        "  print() # bisa juga `pass`\n",
        "else:\n",
        "  print('a tidak sama dengan b')"
      ]
    },
    {
      "cell_type": "markdown",
      "metadata": {
        "id": "b_v1w6L-VsD8"
      },
      "source": [
        "**NOMOR 5**\n",
        "\n",
        "Buatlah sebuah kondisi untuk mengecek apakah variabel `a` **berbeda**  variabel `b` berdasarkan nilai dibawah ini :\n",
        "* `angka_ganjil` = `[1, 3, 5, 7]`\n",
        "* `angka_genap`  = `[2, 4, 6, 8]`\n",
        "\n",
        "Jika `True` maka tulis/cetak `angka_ganjil berbeda dengan angka_genap`\n",
        "\n",
        "Jika `False` maka tulis/cetak `angka_ganjil sama dengan angka_genap`"
      ]
    },
    {
      "cell_type": "code",
      "execution_count": 17,
      "metadata": {},
      "outputs": [
        {
          "name": "stdout",
          "output_type": "stream",
          "text": [
            "angka_ganjil sama dengan angka_genap\n"
          ]
        }
      ],
      "source": [
        "angka_ganjil = [1, 3, 5, 7]\n",
        "angka_genap  = [3, 5, 7, 1]\n",
        "\n",
        "if angka_ganjil != angka_genap:\n",
        "  print(\"angka_ganjil berbeda dengan angka_genap\")\n",
        "else:\n",
        "  print(\"angka_ganjil sama dengan angka_genap\")"
      ]
    },
    {
      "cell_type": "markdown",
      "metadata": {
        "id": "SYcUlu-Qch44"
      },
      "source": [
        "**NOMOR 6**\n",
        "\n",
        "Buatlah sebuah kondisi untuk mengecek apakah variabel-variabel dibawah ini mempunyai nilai atau tidak\n",
        "\n",
        "* `nama` = `budi`\n",
        "* `usia` = 20\n",
        "* `jenis_kelamin_pria` = True\n",
        "* `alamat` = `None`\n",
        "* `jumlah_motor` = 0\n",
        "* `punya_rumah` = `False`\n",
        "\n",
        "Jika True maka tulis/cetak `ada`\n",
        "\n",
        "Jika False maka tulis/cetak `tidak ada`"
      ]
    },
    {
      "cell_type": "code",
      "execution_count": null,
      "metadata": {
        "colab": {
          "base_uri": "https://localhost:8080/"
        },
        "id": "nlUykXzfF09L",
        "outputId": "eb7c83d2-421f-4079-e1d3-bed3d43c1080"
      },
      "outputs": [
        {
          "name": "stdout",
          "output_type": "stream",
          "text": [
            "ada\n",
            "ada\n",
            "ada\n",
            "tidak ada\n",
            "tidak ada\n",
            "tidak ada\n"
          ]
        }
      ],
      "source": [
        "# Working area\n",
        "nama = 'budi'\n",
        "usia = 20\n",
        "jenis_kelamin_pria = True\n",
        "alamat = None\n",
        "jumlah_motor = 0\n",
        "punya_rumah = False\n",
        "\n",
        "if nama:\n",
        "   print(\"ada\")\n",
        "else:\n",
        "  print('tidak ada')\n",
        "\n",
        "if usia:\n",
        "   print(\"ada\")\n",
        "else:\n",
        "  print('tidak ada')\n",
        "\n",
        "if jenis_kelamin_pria:\n",
        "   print(\"ada\")\n",
        "else:\n",
        "  print('tidak ada')\n",
        "\n",
        "if alamat:\n",
        "   print(\"ada\")\n",
        "else:\n",
        "  print('tidak ada')\n",
        "\n",
        "if jumlah_motor:\n",
        "   print(\"ada\")\n",
        "else:\n",
        "  print('tidak ada')\n",
        "\n",
        "if punya_rumah:\n",
        "   print(\"ada\")\n",
        "else:\n",
        "  print('tidak ada')"
      ]
    },
    {
      "cell_type": "code",
      "execution_count": null,
      "metadata": {
        "colab": {
          "base_uri": "https://localhost:8080/"
        },
        "id": "MT-00SEQYY0O",
        "outputId": "2b058495-405f-40e4-872c-671829ce5e7b"
      },
      "outputs": [
        {
          "name": "stdout",
          "output_type": "stream",
          "text": [
            "ada\n",
            "ada\n",
            "ada\n",
            "tidak ada\n",
            "tidak ada\n",
            "tidak ada\n"
          ]
        }
      ],
      "source": [
        "# Versi loop\n",
        "nama = 'budi'\n",
        "usia = 20\n",
        "jenis_kelamin_pria = True\n",
        "alamat = None\n",
        "jumlah_motor = 0\n",
        "punya_rumah = False\n",
        "\n",
        "list_saya = [nama, usia, jenis_kelamin_pria, alamat, jumlah_motor, punya_rumah]\n",
        "\n",
        "for i in list_saya:\n",
        "  if i :\n",
        "    print('ada')\n",
        "  else:\n",
        "    print('tidak ada')"
      ]
    },
    {
      "cell_type": "markdown",
      "metadata": {
        "id": "QAuu7AtZeHHo"
      },
      "source": [
        "**NOMOR 7**\n",
        "\n",
        "Buatlah sebuah kondisi untuk mengecek apakah variabel-variabel dibawah ini termasuk salah satu nilai dari variabel lain atau tidak\n",
        "\n",
        "* *`pendidikan` = `s1`* terhadap *`daftar_pendidikan` = ['s1', 's2', 's3']*\n",
        "* *`nama` = `budi`* terhadap *`nama_lengkap` = `budi kurniawan`*\n",
        "\n",
        "Jika True maka tulis/cetak `merupakan bagian`\n",
        "\n",
        "Jika False maka tulis/cetak `bukan merupakan bagian`"
      ]
    },
    {
      "cell_type": "code",
      "execution_count": null,
      "metadata": {
        "colab": {
          "base_uri": "https://localhost:8080/"
        },
        "id": "f2tJq3W-F09M",
        "outputId": "5380f092-64fc-41fe-b398-077bb54c9cf4"
      },
      "outputs": [
        {
          "name": "stdout",
          "output_type": "stream",
          "text": [
            "bukan merupakan bagian\n"
          ]
        }
      ],
      "source": [
        "# Working area\n",
        "daftar_pendidikan = ['s1', 's2', 's3']\n",
        "pendidikan = 's2'\n",
        "\n",
        "if pendidikan in daftar_pendidikan:\n",
        "  print('merupakan bagian')\n",
        "else:\n",
        "  print('bukan merupakan bagian')"
      ]
    },
    {
      "cell_type": "code",
      "execution_count": null,
      "metadata": {
        "colab": {
          "base_uri": "https://localhost:8080/"
        },
        "id": "imYIsEQCUuw7",
        "outputId": "42824edd-f56d-4093-99b7-56e9430fe02d"
      },
      "outputs": [
        {
          "name": "stdout",
          "output_type": "stream",
          "text": [
            "bukan merupakan bagian\n"
          ]
        }
      ],
      "source": [
        "nama_lengkap = 'budi kurniawan'\n",
        "nama = 'naw'\n",
        "\n",
        "if nama in nama_lengkap:\n",
        "  print('merupakan bagian')\n",
        "else:\n",
        "  print('bukan merupakan bagian')"
      ]
    },
    {
      "cell_type": "markdown",
      "metadata": {
        "id": "xKB0rquQgyU1"
      },
      "source": [
        "**NOMOR 8 (IF ELIF)**\n",
        "\n",
        "Buatlah sebuah kondisi untuk mengecek hubungan dua variabel dibawah ini :\n",
        "\n",
        "* `a` = 100\n",
        "* `b` = 100\n",
        "\n",
        "Jika `a < b` maka tulis/cetak `a lebih kecil dari b`\n",
        "\n",
        "Jika `a > b` maka tulis/cetak `a lebih besar dari b`\n",
        "\n",
        "Selain kondisi diatas, maka tulis/cetak `a sama dengan b`"
      ]
    },
    {
      "cell_type": "code",
      "execution_count": null,
      "metadata": {
        "colab": {
          "base_uri": "https://localhost:8080/"
        },
        "id": "IWc1fISnF09N",
        "outputId": "143dcd19-fafd-47e7-df5c-28a9c4b8fadf"
      },
      "outputs": [
        {
          "name": "stdout",
          "output_type": "stream",
          "text": [
            "a sama dengan b\n"
          ]
        }
      ],
      "source": [
        "# Working area\n",
        "8.\n",
        "a = 100\n",
        "b = 100\n",
        "\n",
        "if a < b:\n",
        "  print(\"a lebih kecil dari b\")\n",
        "elif a > b:\n",
        "  print(\"a lebih besar dari b\")\n",
        "else:\n",
        "  print(\"a sama dengan b\")"
      ]
    },
    {
      "cell_type": "markdown",
      "metadata": {
        "id": "6-2lRRq0e0v2"
      },
      "source": [
        "**NOMOR 9 (NESTED IF)**\n",
        "\n",
        "Buatlah sebuah kondisi untuk memilih menu makanan dengan syarat :\n",
        "\n",
        "* Pilih `nasi goreng` jika uang yang dimiliki lebih dari sama dengan Rp 15.000,-\n",
        "* Pilih `ketoprak` jika uang yang dimiliki lebih dari sama dengan Rp 10.000 dan kurang dari Rp 15.000,-\n",
        "* Pilih `batagor` jika uang yang dimiliki lebih dari sama dengan Rp 5.000 dan kurang Rp 10.000,-\n",
        "* Pilih `es teh manis` jika uang yang dimiliki kurang dari Rp 5000"
      ]
    },
    {
      "cell_type": "code",
      "execution_count": 10,
      "metadata": {
        "colab": {
          "base_uri": "https://localhost:8080/"
        },
        "id": "fXLfPJSsF09O",
        "outputId": "017e126e-a4ee-4776-86df-841d509289a5"
      },
      "outputs": [
        {
          "name": "stdout",
          "output_type": "stream",
          "text": [
            "nasi goreng\n"
          ]
        }
      ],
      "source": [
        "# Working area\n",
        "uang = 16000\n",
        "\n",
        "if uang >= 10000 and uang <= 15000:\n",
        "    print(\"ketoprak\")\n",
        "elif uang >= 15000:\n",
        "    print(\"nasi goreng\")\n",
        "#elif uang >= 10000 and uang <= 15000:\n",
        " #   print(\"ketoprak\")\n",
        "elif uang >= 5000 and uang <= 10000:\n",
        "    print(\"batagor\")\n",
        "else:\n",
        "    print(\"es teh manis\")"
      ]
    },
    {
      "cell_type": "markdown",
      "metadata": {
        "id": "0LRQikHLhzxx"
      },
      "source": [
        "**NOMOR 10**\n",
        "\n",
        "Buatlah sebuah perulangan untuk mencetak/menulis kata `hello` sebanyak `5` kali."
      ]
    },
    {
      "cell_type": "code",
      "execution_count": 23,
      "metadata": {
        "colab": {
          "base_uri": "https://localhost:8080/"
        },
        "id": "e-pkmCnAapRj",
        "outputId": "6aedb8fb-05b7-458a-cc82-56e7e1b1f66c"
      },
      "outputs": [
        {
          "name": "stdout",
          "output_type": "stream",
          "text": [
            "Hello\n",
            "Hello\n",
            "Hello\n",
            "Hello\n",
            "Hello\n"
          ]
        }
      ],
      "source": [
        "# for\n",
        "for x in range(5): # range(start=0,stop-> required argument dan otomatis -1, step=1)\n",
        "    print(\"Hello\")\n"
      ]
    },
    {
      "cell_type": "code",
      "execution_count": 24,
      "metadata": {
        "colab": {
          "base_uri": "https://localhost:8080/"
        },
        "id": "dXEsyoj1a0Lv",
        "outputId": "19bcb1c6-aab7-4877-f812-84b23efbf213"
      },
      "outputs": [
        {
          "name": "stdout",
          "output_type": "stream",
          "text": [
            "hello\n",
            "hello\n",
            "hello\n",
            "hello\n",
            "hello\n"
          ]
        }
      ],
      "source": [
        "# while\n",
        "a = 0\n",
        "while a < 5:\n",
        "    print(\"hello\")\n",
        "    a += 1"
      ]
    },
    {
      "cell_type": "markdown",
      "metadata": {
        "id": "q1u5JgNcjDER"
      },
      "source": [
        "**NOMOR 11**\n",
        "\n",
        "Buatlah sebuah perulangan untuk menampilkan angka dari `0` - `5`\n",
        "\n",
        "*Hasil : 0 1 2 3 4 5*"
      ]
    },
    {
      "cell_type": "code",
      "execution_count": 27,
      "metadata": {
        "colab": {
          "base_uri": "https://localhost:8080/"
        },
        "id": "g7l7f3qxF09Q",
        "outputId": "16951d66-89bb-48c3-b3fa-7ea24bbe9fdd"
      },
      "outputs": [
        {
          "name": "stdout",
          "output_type": "stream",
          "text": [
            "0 1 2 3 4 5 "
          ]
        }
      ],
      "source": [
        "# Working area\n",
        "a = 0\n",
        "while a <= 5:\n",
        "    print(a, end = ' ')\n",
        "    a += 1"
      ]
    },
    {
      "cell_type": "code",
      "execution_count": 28,
      "metadata": {
        "colab": {
          "base_uri": "https://localhost:8080/"
        },
        "id": "qC4_phKVbkQv",
        "outputId": "2b27fc26-06e4-43cc-c893-3a44fe1baf58"
      },
      "outputs": [
        {
          "name": "stdout",
          "output_type": "stream",
          "text": [
            "0 1 2 3 4 5 "
          ]
        }
      ],
      "source": [
        "for i in range(0, 6, 1):\n",
        "    print(i, end=\" \")"
      ]
    },
    {
      "cell_type": "markdown",
      "metadata": {
        "id": "1D-AQ-pij46e"
      },
      "source": [
        "**NOMOR 12**\n",
        "\n",
        "Buatlah sebuah perulangan untuk menampilkan angka dari `3` - `5`\n",
        "\n",
        "*Hasil : 3 4 5*"
      ]
    },
    {
      "cell_type": "code",
      "execution_count": null,
      "metadata": {
        "colab": {
          "base_uri": "https://localhost:8080/"
        },
        "id": "sLJ5ij3yF09R",
        "outputId": "f6fb9f3b-6b21-4402-d574-f3686b576120"
      },
      "outputs": [
        {
          "name": "stdout",
          "output_type": "stream",
          "text": [
            "3 4 5 "
          ]
        }
      ],
      "source": [
        "# Working area\n",
        "for i in range(3,6):\n",
        "  print(i , end=\" \")"
      ]
    },
    {
      "cell_type": "code",
      "execution_count": 36,
      "metadata": {
        "colab": {
          "base_uri": "https://localhost:8080/"
        },
        "id": "BhD0vsN0dL6L",
        "outputId": "7dc75fb4-c792-4202-da78-dadb9f8c2e2b"
      },
      "outputs": [
        {
          "name": "stdout",
          "output_type": "stream",
          "text": [
            "3 4 5 "
          ]
        }
      ],
      "source": [
        "a = 3\n",
        "while a <= 5:\n",
        "    print(a, end = ' ')\n",
        "    a += 1"
      ]
    },
    {
      "cell_type": "markdown",
      "metadata": {
        "id": "uSEVraIukViN"
      },
      "source": [
        "**NOMOR 13**\n",
        "\n",
        "Buatlah sebuah perulangan untuk menampilkan angka dari `1` - `10` dengan jarak angka adalah `3`\n",
        "\n",
        "*Hasil : 1 4 7 10*"
      ]
    },
    {
      "cell_type": "code",
      "execution_count": null,
      "metadata": {
        "colab": {
          "base_uri": "https://localhost:8080/"
        },
        "id": "P8h-gyxVF09S",
        "outputId": "0a9f9583-1cb5-4154-fc96-f7fc99bcedb6"
      },
      "outputs": [
        {
          "name": "stdout",
          "output_type": "stream",
          "text": [
            "1 4 7 10 "
          ]
        }
      ],
      "source": [
        "# Working area\n",
        "# Nomor 13\n",
        "for x in range(1,11,3):\n",
        "  print(x, end = \" \")"
      ]
    },
    {
      "cell_type": "code",
      "execution_count": 32,
      "metadata": {
        "colab": {
          "base_uri": "https://localhost:8080/"
        },
        "id": "BfPj1WOScUvm",
        "outputId": "6a4a168e-edd1-4719-b001-4ff84605c81c"
      },
      "outputs": [
        {
          "name": "stdout",
          "output_type": "stream",
          "text": [
            "1 4 7 10 "
          ]
        }
      ],
      "source": [
        "# 13.\n",
        "i = 1\n",
        "while i <= 10:\n",
        "  print(i, end=\" \")\n",
        "  i += 3"
      ]
    },
    {
      "cell_type": "markdown",
      "metadata": {
        "id": "DtDfto_5k75u"
      },
      "source": [
        "**NOMOR 14**\n",
        "\n",
        "Buatlah sebuah perulangan untuk menampilkan angka dari `1` - `10` dan berhenti dengan kondisi jika angka tersebut adalah `8`\n",
        "\n",
        "*Hasil : 1 2 3 4 5 6 7 8*"
      ]
    },
    {
      "cell_type": "code",
      "execution_count": null,
      "metadata": {
        "colab": {
          "base_uri": "https://localhost:8080/"
        },
        "id": "8EEWKGRtF09S",
        "outputId": "16ce7b91-5a3c-4c46-e347-226364047009"
      },
      "outputs": [
        {
          "name": "stdout",
          "output_type": "stream",
          "text": [
            "1 2 3 4 5 6 7 8 "
          ]
        }
      ],
      "source": [
        "# Working area\n",
        "i = 1\n",
        "while i <= 10:\n",
        "  print (i, end=\" \")\n",
        "  i+=1\n",
        "  if i == 9:\n",
        "    break"
      ]
    },
    {
      "cell_type": "code",
      "execution_count": null,
      "metadata": {
        "colab": {
          "base_uri": "https://localhost:8080/"
        },
        "id": "Zq2ZsrKxeCr7",
        "outputId": "fe616c79-8ae5-40ab-9dcb-f8118937f77b"
      },
      "outputs": [
        {
          "name": "stdout",
          "output_type": "stream",
          "text": [
            "1 2 3 4 5 6 7 8 "
          ]
        }
      ],
      "source": [
        "# 14. michael\n",
        "for i in range(1, 11):\n",
        "    if i == 9:\n",
        "        break\n",
        "    print(i, end=\" \")"
      ]
    },
    {
      "cell_type": "markdown",
      "metadata": {
        "id": "xHUh5DxDmkjm"
      },
      "source": [
        "**NOMOR 15**\n",
        "\n",
        "Buatlah sebuah perulangan untuk menampilkan angka genap dari `1` - `10` dan angka tersebut kurang dari sama dengan 6\n",
        "\n",
        "*Hasil : 2 4 6*"
      ]
    },
    {
      "cell_type": "code",
      "execution_count": null,
      "metadata": {
        "colab": {
          "base_uri": "https://localhost:8080/"
        },
        "id": "LcJejtF9F09T",
        "outputId": "7d1033b2-7b18-4db7-b769-21684f185f0b"
      },
      "outputs": [
        {
          "name": "stdout",
          "output_type": "stream",
          "text": [
            "2 4 6 "
          ]
        }
      ],
      "source": [
        "# Working area\n",
        "i = 1\n",
        "while i < 10:\n",
        "  i += 1\n",
        "  if i == 8:\n",
        "    break\n",
        "  elif i % 2 == 0: #u/ angka genap\n",
        "    print(i, end=\" \")"
      ]
    },
    {
      "cell_type": "code",
      "execution_count": 60,
      "metadata": {
        "colab": {
          "base_uri": "https://localhost:8080/"
        },
        "id": "MFuw60URhxxz",
        "outputId": "e0018684-ea46-4824-d169-16a34ea87906"
      },
      "outputs": [
        {
          "name": "stdout",
          "output_type": "stream",
          "text": [
            "2 4 6 "
          ]
        }
      ],
      "source": [
        "for i in range(1,10):\n",
        "  if i == 8:\n",
        "    break\n",
        "  elif i % 2 == 0:\n",
        "    print(i, end =' ')\n"
      ]
    },
    {
      "cell_type": "markdown",
      "metadata": {
        "id": "eHuyyy7cmFTc"
      },
      "source": [
        "**NOMOR 16**\n",
        "\n",
        "Buatlah sebuah perulangan untuk menampilkan isi dari variabel list dibawah ini :\n",
        "\n",
        "* `daftar_nama` = `['anwar', 'budi', 'cecep', 'deny']`"
      ]
    },
    {
      "cell_type": "code",
      "execution_count": null,
      "metadata": {
        "colab": {
          "base_uri": "https://localhost:8080/"
        },
        "id": "wjIb07m5F09U",
        "outputId": "b1b9aefc-24a1-435d-90a8-8135ea917dcb"
      },
      "outputs": [
        {
          "name": "stdout",
          "output_type": "stream",
          "text": [
            "anwar budi cecep deny "
          ]
        }
      ],
      "source": [
        "# Working area\n",
        "\n",
        "daftar_nama = ['anwar', 'budi', 'cecep', 'deny']\n",
        "\n",
        "for i in daftar_nama:\n",
        "  print(i, end = ' ')"
      ]
    },
    {
      "cell_type": "code",
      "execution_count": 67,
      "metadata": {
        "colab": {
          "base_uri": "https://localhost:8080/"
        },
        "id": "XDUt3oSIiOXa",
        "outputId": "1dcbf53b-8792-49e4-b5ac-a04252b1300f"
      },
      "outputs": [
        {
          "name": "stdout",
          "output_type": "stream",
          "text": [
            "anwar budi cecep deny "
          ]
        }
      ],
      "source": [
        "daftar_nama = ['anwar', 'budi', 'cecep', 'deny']\n",
        "index = 0\n",
        "\n",
        "while index < len(daftar_nama):\n",
        "  print(daftar_nama[index], end = ' ')\n",
        "  index += 1"
      ]
    }
  ],
  "metadata": {
    "colab": {
      "provenance": []
    },
    "kernelspec": {
      "display_name": "data_science",
      "language": "python",
      "name": "python3"
    },
    "language_info": {
      "codemirror_mode": {
        "name": "ipython",
        "version": 3
      },
      "file_extension": ".py",
      "mimetype": "text/x-python",
      "name": "python",
      "nbconvert_exporter": "python",
      "pygments_lexer": "ipython3",
      "version": "3.9.19"
    }
  },
  "nbformat": 4,
  "nbformat_minor": 0
}
