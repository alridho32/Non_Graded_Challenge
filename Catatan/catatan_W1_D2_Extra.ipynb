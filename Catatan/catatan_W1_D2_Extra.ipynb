{
 "cells": [
  {
   "cell_type": "markdown",
   "metadata": {},
   "source": [
    "a = String"
   ]
  },
  {
   "cell_type": "markdown",
   "metadata": {},
   "source": []
  },
  {
   "cell_type": "code",
   "execution_count": null,
   "metadata": {},
   "outputs": [],
   "source": [
    "x = 10\n",
    "y = 2.5\n",
    ".1e7"
   ]
  },
  {
   "cell_type": "markdown",
   "metadata": {},
   "source": [
    "x = Integer\n",
    "\n",
    "y = float"
   ]
  },
  {
   "cell_type": "code",
   "execution_count": null,
   "metadata": {},
   "outputs": [],
   "source": [
    "c = [1,2,\"a\",\"b\",\"%\", [\"jagung\", \"pisang\"]] #mutable = bisa di ubah-ubah\n",
    "d = (1,2,\"a\",\"b\",\"%\") #unmutable = tidak bisa diubah-ubah\n",
    "# nested -> [1,2,3, [\"a\", \"b\", \"c\"]] ada list di dalam list"
   ]
  },
  {
   "cell_type": "markdown",
   "metadata": {},
   "source": [
    "c = list\n",
    "\n",
    "d = tuple"
   ]
  },
  {
   "cell_type": "code",
   "execution_count": null,
   "metadata": {},
   "outputs": [],
   "source": [
    "# Format (key:value)\n",
    "# Bisa di nested\n",
    "dictdata = {\n",
    "  \"key1\":1,\n",
    "  \"key2\":2,\n",
    "  \"key3\":3,\n",
    "  \"key4\":{\n",
    "    'kunci1':'a'\n",
    "  }\n",
    "}\n",
    "print(dictdata[\"key4\"]['kunci1'])"
   ]
  },
  {
   "cell_type": "markdown",
   "metadata": {},
   "source": [
    "{} dictionary"
   ]
  },
  {
   "cell_type": "code",
   "execution_count": null,
   "metadata": {},
   "outputs": [],
   "source": [
    "10 > 30 # False\n",
    "30 > 10 # True"
   ]
  },
  {
   "cell_type": "markdown",
   "metadata": {},
   "source": [
    "Boolean = True/False"
   ]
  },
  {
   "cell_type": "code",
   "execution_count": 47,
   "metadata": {},
   "outputs": [
    {
     "name": "stdout",
     "output_type": "stream",
     "text": [
      "[0, 5]\n"
     ]
    }
   ],
   "source": [
    "listangka = [0,1,2,3,4,5]\n",
    "print(listangka[0:6:5])"
   ]
  }
 ],
 "metadata": {
  "kernelspec": {
   "display_name": "data_science",
   "language": "python",
   "name": "python3"
  },
  "language_info": {
   "codemirror_mode": {
    "name": "ipython",
    "version": 3
   },
   "file_extension": ".py",
   "mimetype": "text/x-python",
   "name": "python",
   "nbconvert_exporter": "python",
   "pygments_lexer": "ipython3",
   "version": "3.9.19"
  }
 },
 "nbformat": 4,
 "nbformat_minor": 2
}
